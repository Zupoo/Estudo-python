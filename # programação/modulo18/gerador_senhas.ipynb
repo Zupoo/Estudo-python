{
 "cells": [
  {
   "cell_type": "markdown",
   "id": "bb79a472",
   "metadata": {},
   "source": [
    "Escreva um programa que gere uma senha aleatória com um determinado comprimento. A senha deve conter uma mistura de letras, números e caracteres especiais. O comprimento da senha deve ser fornecido pelo usuário. Se o comprimento for menor que 4, imprima uma mensagem de erro e peça ao usuário para fornecer um novo comprimento.\n",
    "\n",
    "A senha deve ser aleatória, então cada vez que o usuário executar o programa, uma nova senha deve ser gerada. Obrigatoriamente, a senha deve conter pelo menos uma letra, um número e um caractere especial. A senha não pode conter espaços em branco.\n",
    "\n",
    "O programa deve conter uma função chamada `gerar_senha` que recebe o comprimento da senha como parâmetro e retorna a senha gerada. Se o comprimento for inválido, a função deve retornar None.\n",
    "\n",
    "Exemplo de saída:\n",
    "\n",
    "```\n",
    "Digite o comprimento da senha: 10\n",
    "8Zn$*2q9X\n",
    "```\n",
    "\n",
    "- Dica: use a biblioteca random e a função shuffle para embaralhar os caracteres da senha.\n",
    "- Dica: use a função choice, dessa mesma biblioteca, para escolher um caractere aleatório de uma string.\n",
    "- Dica: use a biblioteca string para obter uma lista de caracteres válidos para a senha."
   ]
  },
  {
   "cell_type": "code",
   "execution_count": 4,
   "id": "5797271a",
   "metadata": {},
   "outputs": [
    {
     "name": "stdout",
     "output_type": "stream",
     "text": [
      "A senha deve ter no minimo 4 caracteres\n",
      "A senha deve ter no minimo 4 caracteres\n",
      "{Ka7\n"
     ]
    }
   ],
   "source": [
    "import random\n",
    "import string\n",
    "\n",
    "def gerar_senha():\n",
    "    tamanho = int(input('Deseja gerar uma senha de quantos caracteres? : '))\n",
    "    if tamanho < 4:\n",
    "        print('A senha deve ter no minimo 4 caracteres')\n",
    "        return None\n",
    "    else:\n",
    "        caracteres = string.ascii_lowercase + string.ascii_uppercase + string.digits + string.punctuation\n",
    "        escolhido_minusculo = random.choice(string.ascii_lowercase)\n",
    "        escolhido_maiusculo = random.choice(string.ascii_uppercase)\n",
    "        escolhido_numero = random.choice(string.digits)\n",
    "        escolhido_especial = random.choice(string.punctuation)\n",
    "        senha = [escolhido_minusculo, escolhido_maiusculo, escolhido_numero, escolhido_especial]\n",
    "        if tamanho > 4:\n",
    "            faltam = tamanho - 4\n",
    "            escolhidos = random.choices(caracteres, k = faltam)\n",
    "            senha = senha + escolhidos\n",
    "        random.shuffle(senha)\n",
    "        senha = ''.join(senha)\n",
    "        return (senha) \n",
    "\n",
    "\n",
    "senha = gerar_senha()\n",
    "while True:\n",
    "    if senha == None:\n",
    "        senha = gerar_senha()\n",
    "    else:\n",
    "        break\n",
    "print(senha)\n",
    "\n",
    "\n",
    "\n",
    "\n",
    "\n",
    "\n",
    "\n",
    "\n",
    "\n",
    "\n",
    "\n",
    "\n",
    "\n"
   ]
  }
 ],
 "metadata": {
  "kernelspec": {
   "display_name": "Python 3",
   "language": "python",
   "name": "python3"
  },
  "language_info": {
   "codemirror_mode": {
    "name": "ipython",
    "version": 3
   },
   "file_extension": ".py",
   "mimetype": "text/x-python",
   "name": "python",
   "nbconvert_exporter": "python",
   "pygments_lexer": "ipython3",
   "version": "3.12.2"
  }
 },
 "nbformat": 4,
 "nbformat_minor": 5
}
