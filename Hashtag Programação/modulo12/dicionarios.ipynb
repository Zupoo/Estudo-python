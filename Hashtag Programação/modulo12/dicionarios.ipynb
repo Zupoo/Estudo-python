{
 "cells": [
  {
   "cell_type": "markdown",
   "metadata": {},
   "source": [
    "### Exercício 1\n",
    "Crie um sistema de consulta de preços\n",
    "Seu sistema deve:\n",
    "- Pedir para o usuário o nome de um produto\n",
    "- Caso o produto exista na lista de produtos, o programa deve retornar o preço do produto como resposta\n",
    "       - Ex: O produto celular custa R$1500\n",
    "- Caso o produto não exista na lista de produtos, o programa deve printar uma mensagem para o usuário tentar novamente\n"
   ]
  },
  {
   "cell_type": "code",
   "execution_count": null,
   "metadata": {},
   "outputs": [
    {
     "name": "stdout",
     "output_type": "stream",
     "text": [
      "Esse produto nao existe\n",
      "OK \n",
      " FIM\n"
     ]
    }
   ],
   "source": [
    "precos = {\"celular\": 1500, \"camera\": 1000, \"fone de ouvido\": 800, \"monitor\": 2000}\n",
    "produto = input('Digite o nome de um produto : ')\n",
    "produtos = list(precos.keys())\n",
    "if produto in produtos:\n",
    "    print(f'O {produto} custa {precos[produto]}')\n",
    "else:\n",
    "    print('Esse produto nao existe')\n",
    "    cadastrar = input('Quer cadastrar esse produto ?').upper()\n",
    "    if 'S' in cadastrar:\n",
    "        novo_produto_preco = float(input('Qual é o preço do {produto} ?'))\n",
    "        precos[produto] = novo_produto_preco\n",
    "        print(precos)\n",
    "    else:\n",
    "        print('OK \\nFIM')"
   ]
  },
  {
   "cell_type": "markdown",
   "metadata": {},
   "source": [
    "\n",
    "### Exercício 2\n",
    "Agora edite o programa anterior para fazer com que, caso não exista o produto, o programa pergunte se o usuário quer cadastrar o produto\n",
    "<br>Se ele responder sim, o programa deve pedir o nome do produto e o preco do produto e cadastrar no dicionário de preços\n",
    "<br>Em seguida do cadastro bem sucedido, o programa deve printar o dicionário de precos atualizado\n"
   ]
  },
  {
   "cell_type": "code",
   "execution_count": null,
   "metadata": {},
   "outputs": [],
   "source": []
  },
  {
   "cell_type": "markdown",
   "metadata": {},
   "source": [
    "### Exercício 3\n",
    "Dada a lista de preços de produtos, uma loja resolveu fazer um reajuste nos preços dos produtos. \n",
    "calcule o novo valor dos produtos com base nas seguintes regras:\n",
    "- Preços até 1.000 vão ter um reajuste de 10% (ou seja, o novo preço será 110% do preço atual)\n",
    "- Preços até maiores que 1.000 até 2.000 vão ter reajuste de 15%\n",
    "- Preços acima de 2.000 vão ter reajuste de 20%"
   ]
  },
  {
   "cell_type": "code",
   "execution_count": null,
   "metadata": {},
   "outputs": [
    {
     "name": "stdout",
     "output_type": "stream",
     "text": [
      "Preço Apos ajustes{'celular': 1724.9999999999998, 'camera': 1100.0, 'fone de ouvido': 880.0000000000001, 'monitor': 3600.0}\n",
      " Preço original {'celular': 1500, 'camera': 1000, 'fone de ouvido': 800, 'monitor': 3000}\n",
      "O celular teve um aumento de R$ 225.00\n",
      "O camera teve um aumento de R$ 100.00\n",
      "O fone de ouvido teve um aumento de R$ 80.00\n",
      "O monitor teve um aumento de R$ 600.00\n"
     ]
    }
   ],
   "source": [
    "precos = {\"celular\": 1500, \"camera\": 1000, \"fone de ouvido\": 800, \"monitor\": 3000}\n",
    "precos_originais = precos.copy()\n",
    "\n",
    "for produto in precos:\n",
    "    if precos[produto] <= 1000:\n",
    "        precos[produto] = precos[produto] * 1.10\n",
    "    elif precos[produto] <= 2000:\n",
    "        precos[produto] = precos[produto] * 1.15\n",
    "    else:\n",
    "        precos[produto] = precos[produto] * 1.20\n",
    "print(f'Preço Apos ajustes{precos}')\n",
    "print(f' Preço original {precos_originais}')\n",
    "\n",
    "for produto in precos:\n",
    "    aumento = (precos[produto] - precos_originais[produto])\n",
    "    print(f'O {produto} teve um aumento de R$ {aumento :.2f}')"
   ]
  },
  {
   "cell_type": "markdown",
   "metadata": {},
   "source": [
    "### Exercício 4\n",
    " - Edite o programa antigo para ter os 2 dicionários, o de preços originais e o de novos preços\n",
    " - Em seguida calcule o valor total de reajuste em R$ que teve entre a lista de produtos original e a lista final\n"
   ]
  },
  {
   "cell_type": "code",
   "execution_count": null,
   "metadata": {},
   "outputs": [],
   "source": []
  },
  {
   "cell_type": "markdown",
   "metadata": {},
   "source": [
    "\n",
    "### Exercício 5\n",
    "- Uma empresa está analisando os resultados de vendas do 1º semestre de 2022 e 2023\n",
    "- Qual foi o % de crescimento de cada mês de 2023 em relação a 2022?\n",
    "- Depois de calcular isso, calcule o valor total de crescimento de 2023 em relação a 2022"
   ]
  },
  {
   "cell_type": "code",
   "execution_count": 33,
   "metadata": {},
   "outputs": [
    {
     "name": "stdout",
     "output_type": "stream",
     "text": [
      "O crescimento no mes de jan foi de 13.333333%\n",
      "O crescimento no mes de fev foi de -3.225806%\n",
      "O crescimento no mes de mar foi de 25.000000%\n",
      "O crescimento no mes de abr foi de 1.807229%\n",
      "O crescimento no mes de mai foi de -1.840491%\n",
      "O crescimento no mes de jun foi de 8.823529%\n",
      "94400 100900\n",
      "O crescimento total foi de 6.885593%\n"
     ]
    }
   ],
   "source": [
    "vendas_22 = {\"jan\": 15000, \"fev\": 15500, \"mar\": 14000, \"abr\": 16600, \"mai\": 16300, \"jun\": 17000}\n",
    "vendas_23 = {\"jan\": 17000, \"fev\": 15000, \"mar\": 17500, \"abr\": 16900, \"mai\": 16000, \"jun\": 18500}\n",
    "soma2022 = 0\n",
    "soma2023 = 0\n",
    "\n",
    "for mes in vendas_22:\n",
    "    crescimento = vendas_23[mes] / vendas_22[mes] -1\n",
    "    print(f'O crescimento no mes de {mes} foi de {crescimento :%}')\n",
    "    soma2022 = soma2022 + vendas_22[mes]\n",
    "    soma2023 += vendas_23[mes]\n",
    "\n",
    "crescimento_total = soma2023 / soma2022 -1\n",
    "print(soma2022, soma2023)\n",
    "print(f'O crescimento total foi de {crescimento_total :%}')\n"
   ]
  },
  {
   "cell_type": "markdown",
   "metadata": {},
   "source": [
    "### Exercício 6 - Desafio\n",
    "- No final da reunião de apresentação dos números, seu chefe perguntou:\n",
    "- E se nos meses de 2023 que a gente vendeu menos do que 2022 a gente tivesse pelo menos empatado com 2022 (ou seja, se nos meses de 2023 em que as vendas foram menores do que o mesmo mês em 2022, o valor de vendas tivesse sido igual a 2022)\n",
    "- Qual teria sido o nosso crescimento de 2023 frente a 2022?"
   ]
  },
  {
   "cell_type": "code",
   "execution_count": null,
   "metadata": {},
   "outputs": [],
   "source": [
    "vendas_22 = {\"jan\": 15000, \"fev\": 15500, \"mar\": 14000, \"abr\": 16600, \"mai\": 16300, \"jun\": 17000}\n",
    "vendas_23 = {\"jan\": 17000, \"fev\": 15000, \"mar\": 17500, \"abr\": 16900, \"mai\": 16000, \"jun\": 18500}\n",
    "soma2022 = 0\n",
    "soma2023 = 0\n",
    "\n",
    "for mes in vendas_22:\n",
    "    if vendas_23[mes] < vendas_22[mes]:\n",
    "        vendas_23[mes] = vendas_22[mes]\n",
    "    crescimento = vendas_23[mes] / vendas_22[mes] -1\n",
    "    print(f'O crescimento no mes de {mes} foi de {crescimento :%}')\n",
    "    soma2022 = soma2022 + vendas_22[mes]\n",
    "    soma2023 += vendas_23[mes]\n",
    "\n",
    "crescimento_total = soma2023 / soma2022 -1\n",
    "print(soma2022, soma2023)\n",
    "print(f'O crescimento total foi de {crescimento_total :%}')\n"
   ]
  }
 ],
 "metadata": {
  "kernelspec": {
   "display_name": "Python 3",
   "language": "python",
   "name": "python3"
  },
  "language_info": {
   "codemirror_mode": {
    "name": "ipython",
    "version": 3
   },
   "file_extension": ".py",
   "mimetype": "text/x-python",
   "name": "python",
   "nbconvert_exporter": "python",
   "pygments_lexer": "ipython3",
   "version": "3.12.2"
  }
 },
 "nbformat": 4,
 "nbformat_minor": 2
}
